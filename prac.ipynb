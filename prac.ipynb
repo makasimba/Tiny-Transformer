{
 "cells": [
  {
   "cell_type": "code",
   "execution_count": null,
   "metadata": {},
   "outputs": [],
   "source": [
    "import torch\n",
    "import torch.nn as nn\n",
    "import torch.nn.functional as F\n",
    "import matplotlib.pyplot as plt\n",
    "import utils\n",
    "\n",
    "torch.manual_seed(3);"
   ]
  },
  {
   "cell_type": "code",
   "execution_count": null,
   "metadata": {},
   "outputs": [],
   "source": [
    "class LayerNorm(nn.Module):\n",
    "\n",
    "    def __init__(self, n_e):\n",
    "        super().__init__()\n",
    "        self.e = 1e-20\n",
    "        self.g = nn.Parameter(torch.ones(n_e))\n",
    "        self.b = nn.Parameter(torch.zeros(n_e))\n",
    "    \n",
    "    def forward(self, X):\n",
    "        mu = X.mean(dim=-1, keepdims=True)\n",
    "        v = X.var(dim=-1, keepdims=True)\n",
    "        X = (X - mu) / (torch.sqrt(v) + self.e)\n",
    "        return self.g * X + self.b"
   ]
  },
  {
   "cell_type": "code",
   "execution_count": null,
   "metadata": {},
   "outputs": [],
   "source": [
    "class FeedForward(nn.Module):\n",
    "\n",
    "    def __init__(self, n_e, d):\n",
    "        super().__init__()\n",
    "        self.net = nn.Sequential(\n",
    "            nn.Linear(n_e, 4 * n_e),\n",
    "            nn.GELU(),\n",
    "            nn.Linear(4 * n_e, n_e),\n",
    "            nn.Dropout(d),\n",
    "        )\n",
    "\n",
    "    def forward(self, X):\n",
    "        return self.net(X)"
   ]
  },
  {
   "cell_type": "code",
   "execution_count": null,
   "metadata": {},
   "outputs": [],
   "source": [
    "class Head(nn.Module):\n",
    "\n",
    "    def __init__(self, n_e, sz):\n",
    "        super().__init__()\n",
    "        self.sz = sz\n",
    "        self.q = nn.Linear(n_e, sz)\n",
    "        self.k = nn.Linear(n_e, sz)\n",
    "        self.v = nn.Linear(n_e, sz)\n",
    "    \n",
    "    def forward(self, X):\n",
    "        Q = self.q(X)\n",
    "        K = self.k(X)\n",
    "        V = self.v(X)\n",
    "\n",
    "        scaled_dot = Q @ torch.transpose(K, -1, -2) / self.sz ** 0.5\n",
    "        AZ = scaled_dot.masked_fill(torch.tril(scaled_dot) == 0, float('-inf'))\n",
    "        return F.softmax(AZ, dim=-1) @ V"
   ]
  },
  {
   "cell_type": "code",
   "execution_count": null,
   "metadata": {},
   "outputs": [],
   "source": [
    "class MHA(nn.Module):\n",
    "\n",
    "    def __init__(self, n_e, n_h):\n",
    "        super().__init__()\n",
    "        sz = n_e // n_h\n",
    "        self.h = nn.ModuleList([Head(n_e, sz) for _ in range(n_h)])\n",
    "        self.W_o = nn.Linear(sz * n_h, n_e)\n",
    "    \n",
    "    def forward(self, X):\n",
    "        o = torch.cat([h(X) for h in self.h], dim=-1)\n",
    "        return self.W_o(o)"
   ]
  },
  {
   "cell_type": "code",
   "execution_count": null,
   "metadata": {},
   "outputs": [],
   "source": [
    "class Block(nn.Module):\n",
    "\n",
    "    def __init__(self, n_e, n_h, d):\n",
    "        super().__init__()\n",
    "        self.norm_z = LayerNorm(n_e)\n",
    "        self.mha = MHA(n_e, n_h)\n",
    "        self.norm_a = LayerNorm(n_e)\n",
    "        self.mlp = FeedForward(n_e, d)\n",
    "    \n",
    "    def forward(self, x):\n",
    "        x = self.mha(self.norm_z(x))\n",
    "        x = self.mlp(self.norm_a(x))\n",
    "        return x"
   ]
  },
  {
   "cell_type": "code",
   "execution_count": null,
   "metadata": {},
   "outputs": [],
   "source": [
    "class GPTModel(nn.Module):\n",
    "\n",
    "    def __init__(self, conf):\n",
    "        super().__init__()\n",
    "        self.n_e, self.n_h, self.n_l, self.n_c, self.n_v, self.n_h, self.d = conf.n_e, conf.n_h, conf.n_l, conf.n_c, conf.n_v, conf.n_h, conf.d\n",
    "        self.E = nn.Embedding(self.n_v, self.n_e)\n",
    "        self.P = nn.Embedding(self.n_c, self.n_e)\n",
    "        self.layers = nn.Sequential(*[Block(self.n_e, self.n_h, self.d) for _ in range(self.n_l)])\n",
    "        self.normalize_o = LayerNorm(self.n_e)\n",
    "        self.mlp = nn.Linear(self.n_e, self.n_v)\n",
    "        self.apply(self.w_and_b)\n",
    "\n",
    "    def w_and_b(self, module):\n",
    "        if isinstance(module, nn.Linear):\n",
    "            torch.nn.init.normal_(module.weight, mean=0.0, std=0.02)\n",
    "            if module.bias is not None:\n",
    "                torch.nn.init.zeros_(module.bias)\n",
    "        if isinstance(module, nn.Embedding):\n",
    "            torch.nn.init.normal_(module.weight, mean=0.0, std=0.02)\n",
    "    \n",
    "    def number_of_parameters(self):\n",
    "        return sum(p.numel() for p in self.parameters())\n",
    "\n",
    "    def forward(self, x, y=None):\n",
    "        T = len(x)\n",
    "        e = self.E(x) + self.P(torch.arange(T))\n",
    "\n",
    "        a = self.layers(e)\n",
    "        Z =  self.mlp(self.normalize_o(a))\n",
    "        B, T, C = Z.shape\n",
    "\n",
    "        if y is not None:\n",
    "            y = y.view(B*T)\n",
    "            Z = Z.view(B*T, C)\n",
    "            loss = F.cross_entropy(Z, y)\n",
    "        else:\n",
    "            loss = None\n",
    "        return Z, loss\n",
    "\n",
    "    def create(self, p, max_new_tokens):\n",
    "        \"\"\" p -- a prompt-like \"\"\"\n",
    "        for _ in range(max_new_tokens):\n",
    "            p = p[:, - self.n_c:]\n",
    "            Z, loss = self(p)\n",
    "            Z = Z[:, -1, :]\n",
    "            probs = F.softmax(Z, dim=-1)\n",
    "            new_token = torch.multinomial(probs, num_samples=1)\n",
    "            \n",
    "            p = torch.cat((p, new_token), dim=1)\n",
    "\n",
    "        return p"
   ]
  },
  {
   "cell_type": "code",
   "execution_count": null,
   "metadata": {},
   "outputs": [],
   "source": [
    "from dataclasses import dataclass\n",
    "\n",
    "@dataclass\n",
    "class GPT_conf:\n",
    "    n_c: int = 8\n",
    "    n_e: int = 8\n",
    "    n_h: int = 4\n",
    "    n_l: int = 6\n",
    "    n_v: int = 27\n",
    "    d: float = 0.2\n",
    "    batch_size: int = 8"
   ]
  },
  {
   "cell_type": "code",
   "execution_count": null,
   "metadata": {},
   "outputs": [],
   "source": [
    "conf = GPT_conf()\n",
    "model = GPTModel(conf)\n",
    "print(f'Number of parameters = {model.number_of_parameters():,}')\n",
    "\n",
    "lr = 3e-4\n",
    "optimizer = torch.optim.AdamW(params=model.parameters(), lr=lr)\n",
    "\n",
    "L = []\n",
    "\n",
    "batch_loader = utils.load_batch()\n",
    "\n",
    "for b in range(10_000):\n",
    "    break\n",
    "    Z, loss = model(X, Y)\n",
    "    \n",
    "    optimizer.zero_grad()\n",
    "    loss.backward()\n",
    "    optimizer.step()\n",
    "\n",
    "    l = loss.item()\n",
    "    if b % 1000 == 0:\n",
    "        print(l)\n",
    "    L.append(l) "
   ]
  },
  {
   "cell_type": "code",
   "execution_count": 2,
   "metadata": {},
   "outputs": [],
   "source": [
    "import matplotlib.pyplot as plt\n",
    "import numpy as np\n",
    "from pprint import pprint as pp\n",
    "import random"
   ]
  },
  {
   "cell_type": "code",
   "execution_count": 3,
   "metadata": {},
   "outputs": [
    {
     "data": {
      "image/png": "[encoded data removed]",
      "text/plain": [
       "<Figure size 640x480 with 1 Axes>"
      ]
     },
     "metadata": {},
     "output_type": "display_data"
    }
   ],
   "source": [
    "d = open('names.txt', 'r').readlines()\n",
    "\n",
    "s = np.array([len(n) for n in d])-1\n",
    "plt.hist(s, bins=14);"
   ]
  },
  {
   "cell_type": "code",
   "execution_count": 4,
   "metadata": {},
   "outputs": [
    {
     "name": "stdout",
     "output_type": "stream",
     "text": [
      "['jaskirat\\n',\n",
      " 'kalliope\\n',\n",
      " 'ovadia\\n',\n",
      " 'leonor\\n',\n",
      " 'javiah\\n',\n",
      " 'audrianna\\n',\n",
      " 'hazyl\\n',\n",
      " 'jayvon\\n',\n",
      " 'tylasia\\n',\n",
      " 'caily\\n']\n"
     ]
    }
   ],
   "source": [
    "samples = [random.choice(d) for _ in range(10)]\n",
    "pp(samples)"
   ]
  },
  {
   "cell_type": "code",
   "execution_count": 5,
   "metadata": {},
   "outputs": [
    {
     "name": "stdout",
     "output_type": "stream",
     "text": [
      "32033 29494 2539\n"
     ]
    }
   ],
   "source": [
    "u = len(d)\n",
    "v = len(list(set(d)))\n",
    "f = u - v\n",
    "print(u, v, f)"
   ]
  },
  {
   "cell_type": "code",
   "execution_count": 6,
   "metadata": {},
   "outputs": [
    {
     "name": "stdout",
     "output_type": "stream",
     "text": [
      "7.0 1.0\n"
     ]
    }
   ],
   "source": [
    "lengths = [len(n) for n in d]\n",
    "n = len(lengths)\n",
    "mu = sum(lengths) / n\n",
    "f = ((np.array(lengths)-mu)**2).sum()\n",
    "s = np.sqrt(f/n)\n",
    "print(round(mu, 0), round(s, 0))"
   ]
  },
  {
   "cell_type": "code",
   "execution_count": 7,
   "metadata": {},
   "outputs": [
    {
     "name": "stdout",
     "output_type": "stream",
     "text": [
      "Number of long words = 1,693\n",
      "christoph\n",
      "sabastian\n",
      "jamielynn\n",
      "magdaleno\n",
      "keerthana\n",
      "angellina\n",
      "milagrace\n",
      "jullianna\n",
      "johnlucas\n",
      "chantelle\n"
     ]
    }
   ],
   "source": [
    "trash = [n for n in d if len(n) > 9]\n",
    "print(f'Number of long words = {len(trash):,}')\n",
    "samples = [random.choice(trash).strip() for _ in range(10)]\n",
    "for m in samples:\n",
    "    print(m)"
   ]
  },
  {
   "cell_type": "code",
   "execution_count": 8,
   "metadata": {},
   "outputs": [
    {
     "name": "stdout",
     "output_type": "stream",
     "text": [
      "27 ['\\n', 'a', 'b', 'c', 'd', 'e', 'f', 'g', 'h', 'i', 'j', 'k', 'l', 'm', 'n', 'o', 'p', 'q', 'r', 's', 't', 'u', 'v', 'w', 'x', 'y', 'z']\n"
     ]
    }
   ],
   "source": [
    "v = sorted(list(set(''.join(d))))\n",
    "print(len(v), v)"
   ]
  },
  {
   "cell_type": "code",
   "execution_count": null,
   "metadata": {},
   "outputs": [],
   "source": [
    "20,859"
   ]
  },
  {
   "cell_type": "code",
   "execution_count": 2,
   "metadata": {},
   "outputs": [
    {
     "name": "stdout",
     "output_type": "stream",
     "text": [
      "GPT_conf(n_c=16, n_e=32, n_h=4, n_l=4, n_v=27, d=0.1, batch_size=8)\n",
      "53,147\n",
      "GPTModel(\n",
      "  (E): Embedding(27, 32)\n",
      "  (P): Embedding(16, 32)\n",
      "  (layers): Sequential(\n",
      "    (0): Block(\n",
      "      (norm_z): LayerNorm()\n",
      "      (mha): MHA(\n",
      "        (heads): ModuleList(\n",
      "          (0-3): 4 x Head(\n",
      "            (q): Linear(in_features=32, out_features=8, bias=True)\n",
      "            (k): Linear(in_features=32, out_features=8, bias=True)\n",
      "            (v): Linear(in_features=32, out_features=8, bias=True)\n",
      "          )\n",
      "        )\n",
      "        (W_o): Linear(in_features=32, out_features=32, bias=True)\n",
      "      )\n",
      "      (norm_a): LayerNorm()\n",
      "      (mlp): FeedForward(\n",
      "        (net): Sequential(\n",
      "          (0): Linear(in_features=32, out_features=128, bias=True)\n",
      "          (1): GELU(approximate='none')\n",
      "          (2): Dropout(p=0.1, inplace=False)\n",
      "          (3): Linear(in_features=128, out_features=32, bias=True)\n",
      "          (4): Dropout(p=0.1, inplace=False)\n",
      "        )\n",
      "      )\n",
      "    )\n",
      "    (1): Block(\n",
      "      (norm_z): LayerNorm()\n",
      "      (mha): MHA(\n",
      "        (heads): ModuleList(\n",
      "          (0-3): 4 x Head(\n",
      "            (q): Linear(in_features=32, out_features=8, bias=True)\n",
      "            (k): Linear(in_features=32, out_features=8, bias=True)\n",
      "            (v): Linear(in_features=32, out_features=8, bias=True)\n",
      "          )\n",
      "        )\n",
      "        (W_o): Linear(in_features=32, out_features=32, bias=True)\n",
      "      )\n",
      "      (norm_a): LayerNorm()\n",
      "      (mlp): FeedForward(\n",
      "        (net): Sequential(\n",
      "          (0): Linear(in_features=32, out_features=128, bias=True)\n",
      "          (1): GELU(approximate='none')\n",
      "          (2): Dropout(p=0.1, inplace=False)\n",
      "          (3): Linear(in_features=128, out_features=32, bias=True)\n",
      "          (4): Dropout(p=0.1, inplace=False)\n",
      "        )\n",
      "      )\n",
      "    )\n",
      "    (2): Block(\n",
      "      (norm_z): LayerNorm()\n",
      "      (mha): MHA(\n",
      "        (heads): ModuleList(\n",
      "          (0-3): 4 x Head(\n",
      "            (q): Linear(in_features=32, out_features=8, bias=True)\n",
      "            (k): Linear(in_features=32, out_features=8, bias=True)\n",
      "            (v): Linear(in_features=32, out_features=8, bias=True)\n",
      "          )\n",
      "        )\n",
      "        (W_o): Linear(in_features=32, out_features=32, bias=True)\n",
      "      )\n",
      "      (norm_a): LayerNorm()\n",
      "      (mlp): FeedForward(\n",
      "        (net): Sequential(\n",
      "          (0): Linear(in_features=32, out_features=128, bias=True)\n",
      "          (1): GELU(approximate='none')\n",
      "          (2): Dropout(p=0.1, inplace=False)\n",
      "          (3): Linear(in_features=128, out_features=32, bias=True)\n",
      "          (4): Dropout(p=0.1, inplace=False)\n",
      "        )\n",
      "      )\n",
      "    )\n",
      "    (3): Block(\n",
      "      (norm_z): LayerNorm()\n",
      "      (mha): MHA(\n",
      "        (heads): ModuleList(\n",
      "          (0-3): 4 x Head(\n",
      "            (q): Linear(in_features=32, out_features=8, bias=True)\n",
      "            (k): Linear(in_features=32, out_features=8, bias=True)\n",
      "            (v): Linear(in_features=32, out_features=8, bias=True)\n",
      "          )\n",
      "        )\n",
      "        (W_o): Linear(in_features=32, out_features=32, bias=True)\n",
      "      )\n",
      "      (norm_a): LayerNorm()\n",
      "      (mlp): FeedForward(\n",
      "        (net): Sequential(\n",
      "          (0): Linear(in_features=32, out_features=128, bias=True)\n",
      "          (1): GELU(approximate='none')\n",
      "          (2): Dropout(p=0.1, inplace=False)\n",
      "          (3): Linear(in_features=128, out_features=32, bias=True)\n",
      "          (4): Dropout(p=0.1, inplace=False)\n",
      "        )\n",
      "      )\n",
      "    )\n",
      "  )\n",
      "  (normalize_o): LayerNorm()\n",
      "  (mlp): Sequential(\n",
      "    (0): Dropout(p=0.1, inplace=False)\n",
      "    (1): Linear(in_features=32, out_features=27, bias=True)\n",
      "  )\n",
      ")\n"
     ]
    }
   ],
   "source": [
    "from model import GPTModel, GPT_conf\n",
    "from pprint import pprint as pp\n",
    "\n",
    "conf = GPT_conf()\n",
    "print(conf)\n",
    "model = GPTModel(conf)\n",
    "print(f'{model.number_of_parameters():,}')\n",
    "pp(model)"
   ]
  },
  {
   "cell_type": "code",
   "execution_count": 8,
   "metadata": {},
   "outputs": [],
   "source": [
    "from utils import prepare, load_batch, run, encode\n",
    "import random"
   ]
  }
 ],
 "metadata": {
  "kernelspec": {
   "display_name": "base",
   "language": "python",
   "name": "python3"
  },
  "language_info": {
   "codemirror_mode": {
    "name": "ipython",
    "version": 3
   },
   "file_extension": ".py",
   "mimetype": "text/x-python",
   "name": "python",
   "nbconvert_exporter": "python",
   "pygments_lexer": "ipython3",
   "version": "3.11.5"
  }
 },
 "nbformat": 4,
 "nbformat_minor": 2
}
